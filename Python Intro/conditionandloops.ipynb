{
 "cells": [
  {
   "cell_type": "code",
   "execution_count": 1,
   "metadata": {},
   "outputs": [],
   "source": [
    "a = 10"
   ]
  },
  {
   "cell_type": "code",
   "execution_count": 6,
   "metadata": {},
   "outputs": [],
   "source": [
    "age =int(input(\"enter your age\"))\n"
   ]
  },
  {
   "cell_type": "code",
   "execution_count": 7,
   "metadata": {},
   "outputs": [
    {
     "data": {
      "text/plain": [
       "int"
      ]
     },
     "execution_count": 7,
     "metadata": {},
     "output_type": "execute_result"
    }
   ],
   "source": [
    "type (age)"
   ]
  },
  {
   "cell_type": "code",
   "execution_count": 13,
   "metadata": {},
   "outputs": [
    {
     "name": "stdout",
     "output_type": "stream",
     "text": [
      "YOUR ARE ELIGIBAL FOR DL\n"
     ]
    }
   ],
   "source": [
    "if age>=18:\n",
    "    print(\"YOUR ARE ELIGIBAL FOR DL\")"
   ]
  },
  {
   "cell_type": "code",
   "execution_count": 14,
   "metadata": {},
   "outputs": [
    {
     "data": {
      "text/plain": [
       "18"
      ]
     },
     "execution_count": 14,
     "metadata": {},
     "output_type": "execute_result"
    }
   ],
   "source": [
    "age"
   ]
  },
  {
   "cell_type": "code",
   "execution_count": 18,
   "metadata": {},
   "outputs": [
    {
     "name": "stdout",
     "output_type": "stream",
     "text": [
      "you are not eligibal\n"
     ]
    }
   ],
   "source": [
    "age =int(input(\"enter your age\"))\n",
    "\n",
    "if age>=18:\n",
    "    print(\"YOUR ARE ELIGIBAL FOR DL\")\n",
    "else:\n",
    "    print(\"you are not eligibal\")"
   ]
  },
  {
   "cell_type": "code",
   "execution_count": 3,
   "metadata": {},
   "outputs": [
    {
     "name": "stdout",
     "output_type": "stream",
     "text": [
      "grade A\n"
     ]
    }
   ],
   "source": [
    "marks=int(input(\"enter your nuber\"))\n",
    "if marks>=90:\n",
    "    print(\"grade A\")\n",
    "else:\n",
    "    print(\"grade B\")"
   ]
  },
  {
   "cell_type": "markdown",
   "metadata": {},
   "source": []
  },
  {
   "cell_type": "code",
   "execution_count": 13,
   "metadata": {},
   "outputs": [
    {
     "name": "stdout",
     "output_type": "stream",
     "text": [
      "Invalid input\n"
     ]
    }
   ],
   "source": [
    "marks = int(input('enter marks'))\n",
    "if marks > 100:\n",
    "    print('Invalid input')\n",
    "elif marks <=100 and marks >=90:\n",
    "    print('grade A')\n",
    "\n",
    "elif marks <=89 and marks >=50:\n",
    "    print('grade B')\n",
    "elif marks <=59 and marks >=30:\n",
    "    print('grade C')\n",
    "elif marks <=29 and marks >=0:\n",
    "    print('fail')"
   ]
  },
  {
   "cell_type": "code",
   "execution_count": 4,
   "metadata": {},
   "outputs": [],
   "source": [
    "pizza=int(input('Enter 6 or non 9'))\n",
    "if pizza<6 and pizza>=9:\n",
    "    print('onine')"
   ]
  },
  {
   "cell_type": "code",
   "execution_count": 3,
   "metadata": {},
   "outputs": [
    {
     "name": "stdout",
     "output_type": "stream",
     "text": [
      "it is not hot\n"
     ]
    }
   ],
   "source": [
    "temperature =10\n",
    "if temperature>25:\n",
    "    print('it is hot')\n",
    "else:\n",
    "    print('it is not hot')"
   ]
  },
  {
   "cell_type": "code",
   "execution_count": 5,
   "metadata": {},
   "outputs": [
    {
     "name": "stdout",
     "output_type": "stream",
     "text": [
      "P\n",
      "Loop is running\n",
      "A\n",
      "Loop is running\n",
      "N\n",
      "Loop is running\n",
      "D\n",
      "Loop is running\n",
      "E\n",
      "Loop is running\n",
      "Y\n",
      "Loop is running\n"
     ]
    }
   ],
   "source": [
    "name = \"PANDEY\"\n",
    "for i in name:\n",
    "    print(i)\n",
    "    print(\"Loop is running\")"
   ]
  },
  {
   "cell_type": "code",
   "execution_count": 6,
   "metadata": {},
   "outputs": [
    {
     "name": "stdout",
     "output_type": "stream",
     "text": [
      "0\n",
      "1\n",
      "2\n",
      "3\n",
      "4\n",
      "5\n",
      "6\n",
      "7\n",
      "8\n",
      "9\n"
     ]
    }
   ],
   "source": [
    "for i in range(10):\n",
    "    print(i)"
   ]
  },
  {
   "cell_type": "code",
   "execution_count": 7,
   "metadata": {},
   "outputs": [
    {
     "name": "stdout",
     "output_type": "stream",
     "text": [
      "1\n",
      "4\n",
      "7\n",
      "10\n"
     ]
    }
   ],
   "source": [
    "for i in range(1,11, 3):\n",
    "    print(i)"
   ]
  },
  {
   "cell_type": "code",
   "execution_count": 10,
   "metadata": {},
   "outputs": [
    {
     "name": "stdout",
     "output_type": "stream",
     "text": [
      "21\n",
      "20\n",
      "19\n",
      "18\n",
      "17\n",
      "16\n",
      "15\n",
      "14\n",
      "13\n",
      "12\n",
      "11\n"
     ]
    }
   ],
   "source": [
    "for i in range(21, 10, -1):\n",
    "    print(i)"
   ]
  },
  {
   "cell_type": "code",
   "execution_count": 12,
   "metadata": {},
   "outputs": [
    {
     "data": {
      "text/plain": [
       "'aaaaaaaaaaaaaaaaaaaaaaaaaaa'"
      ]
     },
     "execution_count": 12,
     "metadata": {},
     "output_type": "execute_result"
    }
   ],
   "source": [
    "\"aaa\" * 9"
   ]
  },
  {
   "cell_type": "code",
   "execution_count": 13,
   "metadata": {},
   "outputs": [
    {
     "data": {
      "text/plain": [
       "'🤗🤗🤗🤗🤗🤗🤗🤗🤗'"
      ]
     },
     "execution_count": 13,
     "metadata": {},
     "output_type": "execute_result"
    }
   ],
   "source": [
    "\"🤗\" * 9"
   ]
  },
  {
   "cell_type": "code",
   "execution_count": 36,
   "metadata": {},
   "outputs": [
    {
     "name": "stdout",
     "output_type": "stream",
     "text": [
      " @\n",
      " @ @\n",
      " @ @ @\n",
      " @ @ @ @\n",
      " @ @ @ @ @\n",
      " @ @ @ @ @ @\n",
      " @ @ @ @ @ @ @\n",
      " @ @ @ @ @ @ @ @\n",
      " @ @ @ @ @ @ @ @ @\n"
     ]
    }
   ],
   "source": [
    "for i in range(1, 10):\n",
    "    print(i * ' @')"
   ]
  },
  {
   "cell_type": "code",
   "execution_count": 34,
   "metadata": {},
   "outputs": [
    {
     "name": "stdout",
     "output_type": "stream",
     "text": [
      "                             #                              \n",
      "                          #  #  #                           \n",
      "                       #  #  #  #  #                        \n",
      "                    #  #  #  #  #  #  #                     \n",
      "                 #  #  #  #  #  #  #  #  #                  \n"
     ]
    }
   ],
   "source": [
    "for i in range(1, 10, 2):\n",
    "    print((i * ' # ').center(60) )"
   ]
  },
  {
   "cell_type": "code",
   "execution_count": 28,
   "metadata": {},
   "outputs": [
    {
     "name": "stdout",
     "output_type": "stream",
     "text": [
      " 😫\n",
      " 😫 😫\n",
      " 😫 😫 😫\n",
      " 😫 😫 😫 😫\n",
      " 😫 😫 😫 😫 😫\n",
      " 😫 😫 😫 😫 😫 😫\n",
      " 😫 😫 😫 😫 😫 😫 😫\n",
      " 😫 😫 😫 😫 😫 😫 😫 😫\n",
      " 😫 😫 😫 😫 😫 😫 😫 😫 😫\n"
     ]
    }
   ],
   "source": [
    "for i in range(1, 10):\n",
    "    print(i * ' 😫' )"
   ]
  },
  {
   "cell_type": "code",
   "execution_count": 8,
   "metadata": {},
   "outputs": [
    {
     "name": "stdout",
     "output_type": "stream",
     "text": [
      "0\n",
      "1\n",
      "2\n",
      "3\n",
      "4\n",
      "5\n",
      "6\n",
      "7\n",
      "8\n",
      "9\n"
     ]
    }
   ],
   "source": [
    "for i in range(10):\n",
    "    print(i)"
   ]
  },
  {
   "cell_type": "code",
   "execution_count": 10,
   "metadata": {},
   "outputs": [
    {
     "name": "stdout",
     "output_type": "stream",
     "text": [
      " 1\n",
      " 1 1\n",
      " 1 1 1\n",
      " 1 1 1 1\n",
      " 1 1 1 1 1\n",
      " 1 1 1 1 1 1\n",
      " 1 1 1 1 1 1 1\n",
      " 1 1 1 1 1 1 1 1\n",
      " 1 1 1 1 1 1 1 1 1\n"
     ]
    }
   ],
   "source": [
    "for i in range(1,10):\n",
    "    print(i*\" 1\")"
   ]
  },
  {
   "cell_type": "code",
   "execution_count": null,
   "metadata": {},
   "outputs": [],
   "source": []
  }
 ],
 "metadata": {
  "interpreter": {
   "hash": "493fe63cf9aa51f8641c6c8fbd4dd4cb828640a56485c507f1c0244d5d84ff14"
  },
  "kernelspec": {
   "display_name": "Python 3.9.10 64-bit",
   "language": "python",
   "name": "python3"
  },
  "language_info": {
   "codemirror_mode": {
    "name": "ipython",
    "version": 3
   },
   "file_extension": ".py",
   "mimetype": "text/x-python",
   "name": "python",
   "nbconvert_exporter": "python",
   "pygments_lexer": "ipython3",
   "version": "3.9.10"
  },
  "orig_nbformat": 4
 },
 "nbformat": 4,
 "nbformat_minor": 2
}
