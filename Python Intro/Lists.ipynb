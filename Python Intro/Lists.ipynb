{
 "cells": [
  {
   "cell_type": "code",
   "execution_count": 8,
   "metadata": {},
   "outputs": [
    {
     "name": "stdout",
     "output_type": "stream",
     "text": [
      "[48, 78]\n"
     ]
    }
   ],
   "source": [
    "Empty= list()\n",
    "for i in range(5):\n",
    "    i=int(input(\"Enter the Numbers\")) \n",
    "    if (i%2==0):\n",
    "     Empty.append(i)\n",
    "print(Empty)"
   ]
  },
  {
   "cell_type": "code",
   "execution_count": 15,
   "metadata": {},
   "outputs": [
    {
     "name": "stdout",
     "output_type": "stream",
     "text": [
      "['ashutosh', 'vinyank', 'shivam', 'akash', 'varun']\n",
      "Total vovels 11\n",
      "['a', 'u', 'o', 'i', 'a', 'i', 'a', 'a', 'a', 'a', 'u']\n"
     ]
    }
   ],
   "source": [
    "name=[]\n",
    "mer=[]\n",
    "vowel='aeiou'\n",
    "count=0\n",
    "for i in range(5):\n",
    "    name.append(input(\"Enter the name\"))\n",
    "print(name)\n",
    "for w in range(len(name)):\n",
    "    for i in name[w]:\n",
    "     if i in vowel:\n",
    "        mer.append(i)\n",
    "        count+=1\n",
    "print(\"Total vovels\",count)\n",
    "print(mer)"
   ]
  },
  {
   "cell_type": "code",
   "execution_count": null,
   "metadata": {},
   "outputs": [],
   "source": []
  }
 ],
 "metadata": {
  "interpreter": {
   "hash": "493fe63cf9aa51f8641c6c8fbd4dd4cb828640a56485c507f1c0244d5d84ff14"
  },
  "kernelspec": {
   "display_name": "Python 3.9.10 64-bit",
   "language": "python",
   "name": "python3"
  },
  "language_info": {
   "name": "python",
   "version": "3.9.10"
  },
  "orig_nbformat": 4
 },
 "nbformat": 4,
 "nbformat_minor": 2
}
